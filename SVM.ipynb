{
 "metadata": {
  "name": ""
 },
 "nbformat": 3,
 "nbformat_minor": 0,
 "worksheets": [
  {
   "cells": [
    {
     "cell_type": "code",
     "collapsed": false,
     "input": [
      "\"\"\"\n",
      "=========================================\n",
      "SVM: Maximum margin separating hyperplane\n",
      "=========================================\n",
      "\n",
      "Plot the maximum margin separating hyperplane within a two-class\n",
      "separable dataset using a Support Vector Machines classifier with\n",
      "linear kernel.\n",
      "\"\"\"\n",
      "print(__doc__)"
     ],
     "language": "python",
     "metadata": {},
     "outputs": []
    },
    {
     "cell_type": "code",
     "collapsed": false,
     "input": [
      "import numpy as np\n",
      "import pylab as pl\n",
      "from sklearn import svm"
     ],
     "language": "python",
     "metadata": {},
     "outputs": [],
     "prompt_number": 1
    },
    {
     "cell_type": "code",
     "collapsed": false,
     "input": [
      "# we create 40 separable points\n",
      "np.random.seed(0)\n",
      "X = np.r_[np.random.randn(20, 2) - [2, 2], np.random.randn(20, 2) + [2, 2]]\n",
      "Y = [0] * 20 + [1] * 20"
     ],
     "language": "python",
     "metadata": {},
     "outputs": [],
     "prompt_number": 3
    },
    {
     "cell_type": "code",
     "collapsed": false,
     "input": [
      "# fit the model\n",
      "clf = svm.SVC(kernel='linear')\n",
      "clf.fit(X, Y)"
     ],
     "language": "python",
     "metadata": {},
     "outputs": [
      {
       "metadata": {},
       "output_type": "pyout",
       "prompt_number": 4,
       "text": [
        "SVC(C=1.0, cache_size=200, class_weight=None, coef0=0.0, degree=3, gamma=0.0,\n",
        "  kernel='linear', max_iter=-1, probability=False, random_state=None,\n",
        "  shrinking=True, tol=0.001, verbose=False)"
       ]
      }
     ],
     "prompt_number": 4
    },
    {
     "cell_type": "code",
     "collapsed": false,
     "input": [
      "# get the separating hyperplane\n",
      "w = clf.coef_[0]\n",
      "a = -w[0] / w[1]\n",
      "xx = np.linspace(-5, 5)\n",
      "yy = a * xx - (clf.intercept_[0]) / w[1]"
     ],
     "language": "python",
     "metadata": {},
     "outputs": [],
     "prompt_number": 10
    },
    {
     "cell_type": "code",
     "collapsed": false,
     "input": [
      "# plot the parallels to the separating hyperplane that pass through the\n",
      "# support vectors\n",
      "b = clf.support_vectors_[0]\n",
      "yy_down = a * xx + (b[1] - a * b[0])\n",
      "b = clf.support_vectors_[-1]\n",
      "yy_up = a * xx + (b[1] - a * b[0])"
     ],
     "language": "python",
     "metadata": {},
     "outputs": [],
     "prompt_number": 14
    },
    {
     "cell_type": "code",
     "collapsed": false,
     "input": [
      "# plot the line, the points, and the nearest vectors to the plane\n",
      "pl.plot(xx, yy, 'k-')\n",
      "pl.plot(xx, yy_down, 'k--')\n",
      "pl.plot(xx, yy_up, 'k--')\n",
      "\n",
      "pl.scatter(clf.support_vectors_[:, 0], clf.support_vectors_[:, 1],\n",
      "           s=80, facecolors='none')\n",
      "pl.scatter(X[:, 0], X[:, 1], c=Y, cmap=pl.cm.Paired)\n",
      "\n",
      "pl.axis('tight')\n",
      "pl.show()"
     ],
     "language": "python",
     "metadata": {},
     "outputs": [
      {
       "metadata": {},
       "output_type": "display_data",
       "png": "[encoded data removed]",
       "text": [
        "<matplotlib.figure.Figure at 0x1076add50>"
       ]
      }
     ],
     "prompt_number": 15
    }
   ],
   "metadata": {}
  }
 ]
}