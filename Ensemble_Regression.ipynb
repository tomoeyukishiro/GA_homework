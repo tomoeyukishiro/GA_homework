{
 "metadata": {
  "name": ""
 },
 "nbformat": 3,
 "nbformat_minor": 0,
 "worksheets": [
  {
   "cells": [
    {
     "cell_type": "code",
     "collapsed": false,
     "input": [
      "\"\"\"\n",
      "============================\n",
      "Gradient Boosting regression\n",
      "============================\n",
      "\n",
      "Demonstrate Gradient Boosting on the boston housing dataset.\n",
      "\n",
      "This example fits a Gradient Boosting model with least squares loss and\n",
      "500 regression trees of depth 4.\n",
      "\"\"\"\n",
      "print(__doc__)\n",
      "\n",
      "# Author: Peter Prettenhofer <peter.prettenhofer@gmail.com>\n",
      "#\n",
      "# License: BSD 3 clause\n",
      "\n",
      "import numpy as np\n",
      "import pylab as pl\n",
      "from sklearn import ensemble\n",
      "from sklearn import datasets\n",
      "from sklearn.utils import shuffle\n",
      "from sklearn.metrics import mean_squared_error\n"
     ],
     "language": "python",
     "metadata": {},
     "outputs": [
      {
       "output_type": "stream",
       "stream": "stdout",
       "text": [
        "\n",
        "============================\n",
        "Gradient Boosting regression\n",
        "============================\n",
        "\n",
        "Demonstrate Gradient Boosting on the boston housing dataset.\n",
        "\n",
        "This example fits a Gradient Boosting model with least squares loss and\n",
        "500 regression trees of depth 4.\n",
        "\n"
       ]
      }
     ],
     "prompt_number": 1
    },
    {
     "cell_type": "code",
     "collapsed": false,
     "input": [
      "from pandas import DataFrame, Series\n",
      "\n",
      "X_df = DataFrame(X)\n",
      "X_df.columns = ['CRIM', 'ZN', 'INDUS', 'CHAS', 'NOX', 'RM', 'AGE', 'DIS', 'RAD', 'TAX', 'PTRATIO', 'B', 'LSTAT']\n",
      "X_df.head()\n"
     ],
     "language": "python",
     "metadata": {},
     "outputs": [
      {
       "output_type": "stream",
       "stream": "stderr",
       "text": [
        "/Users/awang/anaconda/python.app/Contents/lib/python2.7/site-packages/pandas/core/config.py:570: DeprecationWarning: height has been deprecated.\n",
        "\n",
        "  warnings.warn(d.msg, DeprecationWarning)\n",
        "/Users/awang/anaconda/python.app/Contents/lib/python2.7/site-packages/pandas/core/config.py:570: DeprecationWarning: height has been deprecated.\n",
        "\n",
        "  warnings.warn(d.msg, DeprecationWarning)\n",
        "/Users/awang/anaconda/python.app/Contents/lib/python2.7/site-packages/pandas/core/config.py:570: DeprecationWarning: height has been deprecated.\n",
        "\n",
        "  warnings.warn(d.msg, DeprecationWarning)\n"
       ]
      },
      {
       "html": [
        "<div style=\"max-height:1000px;max-width:1500px;overflow:auto;\">\n",
        "<table border=\"1\" class=\"dataframe\">\n",
        "  <thead>\n",
        "    <tr style=\"text-align: right;\">\n",
        "      <th></th>\n",
        "      <th>CRIM</th>\n",
        "      <th>ZN</th>\n",
        "      <th>INDUS</th>\n",
        "      <th>CHAS</th>\n",
        "      <th>NOX</th>\n",
        "      <th>RM</th>\n",
        "      <th>AGE</th>\n",
        "      <th>DIS</th>\n",
        "      <th>RAD</th>\n",
        "      <th>TAX</th>\n",
        "      <th>PTRATIO</th>\n",
        "      <th>B</th>\n",
        "      <th>LSTAT</th>\n",
        "    </tr>\n",
        "  </thead>\n",
        "  <tbody>\n",
        "    <tr>\n",
        "      <th>0</th>\n",
        "      <td> 15.02340</td>\n",
        "      <td>  0</td>\n",
        "      <td> 18.10</td>\n",
        "      <td> 0</td>\n",
        "      <td> 0.614</td>\n",
        "      <td> 5.304</td>\n",
        "      <td> 97.300003</td>\n",
        "      <td> 2.1007</td>\n",
        "      <td> 24</td>\n",
        "      <td> 666</td>\n",
        "      <td> 20.200001</td>\n",
        "      <td> 349.480011</td>\n",
        "      <td> 24.91</td>\n",
        "    </tr>\n",
        "    <tr>\n",
        "      <th>1</th>\n",
        "      <td>  5.44114</td>\n",
        "      <td>  0</td>\n",
        "      <td> 18.10</td>\n",
        "      <td> 0</td>\n",
        "      <td> 0.713</td>\n",
        "      <td> 6.655</td>\n",
        "      <td> 98.199997</td>\n",
        "      <td> 2.3552</td>\n",
        "      <td> 24</td>\n",
        "      <td> 666</td>\n",
        "      <td> 20.200001</td>\n",
        "      <td> 355.290009</td>\n",
        "      <td> 17.73</td>\n",
        "    </tr>\n",
        "    <tr>\n",
        "      <th>2</th>\n",
        "      <td>  1.00245</td>\n",
        "      <td>  0</td>\n",
        "      <td>  8.14</td>\n",
        "      <td> 0</td>\n",
        "      <td> 0.538</td>\n",
        "      <td> 6.674</td>\n",
        "      <td> 87.300003</td>\n",
        "      <td> 4.2390</td>\n",
        "      <td>  4</td>\n",
        "      <td> 307</td>\n",
        "      <td> 21.000000</td>\n",
        "      <td> 380.230011</td>\n",
        "      <td> 11.98</td>\n",
        "    </tr>\n",
        "    <tr>\n",
        "      <th>3</th>\n",
        "      <td>  0.00632</td>\n",
        "      <td> 18</td>\n",
        "      <td>  2.31</td>\n",
        "      <td> 0</td>\n",
        "      <td> 0.538</td>\n",
        "      <td> 6.575</td>\n",
        "      <td> 65.199997</td>\n",
        "      <td> 4.0900</td>\n",
        "      <td>  1</td>\n",
        "      <td> 296</td>\n",
        "      <td> 15.300000</td>\n",
        "      <td> 396.899994</td>\n",
        "      <td>  4.98</td>\n",
        "    </tr>\n",
        "    <tr>\n",
        "      <th>4</th>\n",
        "      <td>  0.26169</td>\n",
        "      <td>  0</td>\n",
        "      <td>  9.90</td>\n",
        "      <td> 0</td>\n",
        "      <td> 0.544</td>\n",
        "      <td> 6.023</td>\n",
        "      <td> 90.400002</td>\n",
        "      <td> 2.8340</td>\n",
        "      <td>  4</td>\n",
        "      <td> 304</td>\n",
        "      <td> 18.400000</td>\n",
        "      <td> 396.299988</td>\n",
        "      <td> 11.72</td>\n",
        "    </tr>\n",
        "  </tbody>\n",
        "</table>\n",
        "</div>"
       ],
       "metadata": {},
       "output_type": "pyout",
       "prompt_number": 39,
       "text": [
        "       CRIM  ZN  INDUS  CHAS    NOX     RM        AGE     DIS  RAD  TAX  \\\n",
        "0  15.02340   0  18.10     0  0.614  5.304  97.300003  2.1007   24  666   \n",
        "1   5.44114   0  18.10     0  0.713  6.655  98.199997  2.3552   24  666   \n",
        "2   1.00245   0   8.14     0  0.538  6.674  87.300003  4.2390    4  307   \n",
        "3   0.00632  18   2.31     0  0.538  6.575  65.199997  4.0900    1  296   \n",
        "4   0.26169   0   9.90     0  0.544  6.023  90.400002  2.8340    4  304   \n",
        "\n",
        "     PTRATIO           B  LSTAT  \n",
        "0  20.200001  349.480011  24.91  \n",
        "1  20.200001  355.290009  17.73  \n",
        "2  21.000000  380.230011  11.98  \n",
        "3  15.300000  396.899994   4.98  \n",
        "4  18.400000  396.299988  11.72  "
       ]
      }
     ],
     "prompt_number": 39
    },
    {
     "cell_type": "code",
     "collapsed": false,
     "input": [
      "y_df = DataFrame(y)\n",
      "y_df.columns = ['MEDV']\n",
      "y_df.head()"
     ],
     "language": "python",
     "metadata": {},
     "outputs": [
      {
       "output_type": "stream",
       "stream": "stderr",
       "text": [
        "/Users/awang/anaconda/python.app/Contents/lib/python2.7/site-packages/pandas/core/config.py:570: DeprecationWarning: height has been deprecated.\n",
        "\n",
        "  warnings.warn(d.msg, DeprecationWarning)\n",
        "/Users/awang/anaconda/python.app/Contents/lib/python2.7/site-packages/pandas/core/config.py:570: DeprecationWarning: height has been deprecated.\n",
        "\n",
        "  warnings.warn(d.msg, DeprecationWarning)\n"
       ]
      },
      {
       "html": [
        "<div style=\"max-height:1000px;max-width:1500px;overflow:auto;\">\n",
        "<table border=\"1\" class=\"dataframe\">\n",
        "  <thead>\n",
        "    <tr style=\"text-align: right;\">\n",
        "      <th></th>\n",
        "      <th>MEDV</th>\n",
        "    </tr>\n",
        "  </thead>\n",
        "  <tbody>\n",
        "    <tr>\n",
        "      <th>0</th>\n",
        "      <td> 12.0</td>\n",
        "    </tr>\n",
        "    <tr>\n",
        "      <th>1</th>\n",
        "      <td> 15.2</td>\n",
        "    </tr>\n",
        "    <tr>\n",
        "      <th>2</th>\n",
        "      <td> 21.0</td>\n",
        "    </tr>\n",
        "    <tr>\n",
        "      <th>3</th>\n",
        "      <td> 24.0</td>\n",
        "    </tr>\n",
        "    <tr>\n",
        "      <th>4</th>\n",
        "      <td> 19.4</td>\n",
        "    </tr>\n",
        "  </tbody>\n",
        "</table>\n",
        "</div>"
       ],
       "metadata": {},
       "output_type": "pyout",
       "prompt_number": 40,
       "text": [
        "   MEDV\n",
        "0  12.0\n",
        "1  15.2\n",
        "2  21.0\n",
        "3  24.0\n",
        "4  19.4"
       ]
      }
     ],
     "prompt_number": 40
    },
    {
     "cell_type": "code",
     "collapsed": false,
     "input": [
      "###############################################################################\n",
      "# Load data\n",
      "boston = datasets.load_boston()\n",
      "X, y = shuffle(boston.data, boston.target, random_state=13)\n",
      "X = X.astype(np.float32)\n",
      "offset = int(X.shape[0] * 0.9)\n",
      "X_train, y_train = X[:offset], y[:offset]\n",
      "X_test, y_test = X[offset:], y[offset:]\n"
     ],
     "language": "python",
     "metadata": {},
     "outputs": [],
     "prompt_number": 41
    },
    {
     "cell_type": "code",
     "collapsed": false,
     "input": [
      "###############################################################################\n",
      "# Fit regression model\n",
      "params = {'n_estimators': 500, 'max_depth': 4, 'min_samples_split': 1,\n",
      "          'learning_rate': 0.01, 'loss': 'ls'}\n",
      "clf = ensemble.GradientBoostingRegressor(**params)\n",
      "\n",
      "clf.fit(X_train, y_train)\n",
      "mse = mean_squared_error(y_test, clf.predict(X_test))\n",
      "print(\"MSE: %.4f\" % mse)\n",
      "\n",
      "###############################################################################"
     ],
     "language": "python",
     "metadata": {},
     "outputs": [
      {
       "output_type": "stream",
       "stream": "stdout",
       "text": [
        "MSE: 6.5223\n"
       ]
      }
     ],
     "prompt_number": 26
    },
    {
     "cell_type": "code",
     "collapsed": false,
     "input": [
      "# Plot training deviance\n",
      "\n",
      "# compute test set deviance\n",
      "test_score = np.zeros((params['n_estimators'],), dtype=np.float64)\n",
      "\n",
      "for i, y_pred in enumerate(clf.staged_decision_function(X_test)):\n",
      "    test_score[i] = clf.loss_(y_test, y_pred)\n",
      "\n",
      "pl.figure(figsize=(12, 6))\n",
      "pl.subplot(1, 2, 1)\n",
      "pl.title('Deviance')\n",
      "pl.plot(np.arange(params['n_estimators']) + 1, clf.train_score_, 'b-',\n",
      "        label='Training Set Deviance')\n",
      "pl.plot(np.arange(params['n_estimators']) + 1, test_score, 'r-',\n",
      "        label='Test Set Deviance')\n",
      "pl.legend(loc='upper right')\n",
      "pl.xlabel('Boosting Iterations')\n",
      "pl.ylabel('Deviance')\n"
     ],
     "language": "python",
     "metadata": {},
     "outputs": [
      {
       "metadata": {},
       "output_type": "pyout",
       "prompt_number": 30,
       "text": [
        "<matplotlib.text.Text at 0x108f3e450>"
       ]
      },
      {
       "metadata": {},
       "output_type": "display_data",
       "png": "[encoded data removed]",
       "text": [
        "<matplotlib.figure.Figure at 0x108efe450>"
       ]
      }
     ],
     "prompt_number": 30
    },
    {
     "cell_type": "code",
     "collapsed": false,
     "input": [
      "###############################################################################\n",
      "# Plot feature importance\n",
      "feature_importance = clf.feature_importances_\n",
      "# make importances relative to max importance\n",
      "feature_importance = 100.0 * (feature_importance / feature_importance.max())\n",
      "sorted_idx = np.argsort(feature_importance)\n",
      "pos = np.arange(sorted_idx.shape[0]) + .5\n",
      "pl.subplot(1, 2, 2)\n",
      "pl.barh(pos, feature_importance[sorted_idx], align='center')\n",
      "pl.yticks(pos, boston.feature_names[sorted_idx])\n",
      "pl.xlabel('Relative Importance')\n",
      "pl.title('Variable Importance')\n",
      "pl.show()\n"
     ],
     "language": "python",
     "metadata": {},
     "outputs": [
      {
       "metadata": {},
       "output_type": "display_data",
       "png": "[encoded data removed]",
       "text": [
        "<matplotlib.figure.Figure at 0x108ef3e50>"
       ]
      }
     ],
     "prompt_number": 33
    }
   ],
   "metadata": {}
  }
 ]
}