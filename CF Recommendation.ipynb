{
 "metadata": {
  "name": ""
 },
 "nbformat": 3,
 "nbformat_minor": 0,
 "worksheets": [
  {
   "cells": [
    {
     "cell_type": "code",
     "collapsed": false,
     "input": [
      "#!/usr/local/bin/python\n",
      "print 'importing modules'\n",
      "import pdb\n",
      "import json\n",
      "import recsys.algorithm\n",
      "from recsys.algorithm.factorize import SVD\n",
      "from recsys.datamodel.data import Data\n",
      "from recsys.evaluation.prediction import RMSE, MAE\n",
      "from recsys.utils.svdlibc import SVDLIBC\n",
      "\n",
      "\"\"\"\n",
      "##install python-recsys\n",
      "git clone https://github.com/python-recsys/python-recsys.git\n",
      "cd python-recsys/\n",
      "python setup.py build\n",
      "python setup.py install\n",
      "\n",
      "##install divisi2\n",
      "sudo pip install divisi2\n",
      "\n",
      "#get data\n",
      "#download http://www.grouplens.org/system/files/ml-1m.zip\n",
      "\"\"\"\n",
      "\n",
      "names = json.loads(open('movie_dict.json').read())\n"
     ],
     "language": "python",
     "metadata": {},
     "outputs": [
      {
       "output_type": "stream",
       "stream": "stdout",
       "text": [
        "importing modules\n"
       ]
      }
     ],
     "prompt_number": 1
    },
    {
     "cell_type": "code",
     "collapsed": false,
     "input": [
      "'''\n",
      "UserID::MovieID::Rating::Timestamp\n",
      "\n",
      "- UserIDs range between 1 and 6040 \n",
      "- MovieIDs range between 1 and 3952\n",
      "- Ratings are made on a 5-star scale (whole-star ratings only)\n",
      "- Timestamp is represented in seconds since the epoch as returned by time(2)\n",
      "- Each user has at least 20 ratings\n",
      "'''\n",
      "def SVDloadData():\n",
      "    svd = SVD()\n",
      "    recsys.algorithm.VERBOSE = True\n",
      "    dat_file = 'ml-1m/ratings.dat'\n",
      "    svd.load_data(filename=dat_file, sep='::', format={'col':0, 'row':1, 'value':2, 'ids': int})\n",
      "    return svd\n",
      "\n",
      "def SVDcompute(svd):\n",
      "    k=100\n",
      "    svd.compute(k=k, min_values=10, pre_normalize=None, mean_center=True,post_normalize=True)\n",
      "    return svd\n",
      "\n",
      "def SVDgetSimilar(svd, ITEMID1):\n",
      "    simMovie = svd.similar(ITEMID1)\n",
      "    for ind,score in simMovie:\n",
      "        ind = str(ind)\n",
      "        print 'similar movie: %s' % names[ind]\n",
      "\n",
      "def SVDpredict(ITEMID, USERID, MIN_RATING, MAX_RATING):\n",
      "    pred = svd.predict(ITEMID, USERID, MIN_RATING, MAX_RATING)\n",
      "    actual = svd.get_matrix().value(ITEMID, USERID)\n",
      "    print 'predicted rating = {0}'.format(pred)\n",
      "    print 'actual rating = {0}'.format(actual)\n",
      "\n",
      "def SVDrecommend(ITEMID):\n",
      "    recMovie = svd.recommend(ITEMID)\n",
      "    for ind,score in recMovie:\n",
      "        print 'user %s' % ind\n",
      "\n",
      "# ITEMID = 1      toy story       \n",
      "# ITEMID = 593 silence of the lambs\n",
      "ITEMID = 2315 #bride of chucky\n",
      "# ITEMID = 1221   godfather II \n",
      "\n",
      "MIN_RATING = 0.0\n",
      "MAX_RATING = 5.0\n",
      "USERID = 1\n",
      "\n",
      "pct_train=0.5\n",
      "\n",
      "print 'loading data'\n",
      "svd = SVDloadData()\n",
      "print 'computing svd'\n",
      "svd = SVDcompute(svd)   \n",
      "print '\\ngetting similar titles toy story'  \n",
      "SVDgetSimilar(svd, ITEMID)\n",
      "print '\\npredicting rating'                             \n",
      "SVDpredict(ITEMID, USERID, MIN_RATING, MAX_RATING)\n",
      "print '\\nfinding users to recommend toy story'                                                                                        \n",
      "SVDrecommend(ITEMID)"
     ],
     "language": "python",
     "metadata": {},
     "outputs": [
      {
       "output_type": "stream",
       "stream": "stdout",
       "text": [
        "loading data\n",
        "computing svd"
       ]
      },
      {
       "output_type": "stream",
       "stream": "stdout",
       "text": [
        "\n",
        "\n",
        "getting similar titles toy story"
       ]
      },
      {
       "output_type": "stream",
       "stream": "stdout",
       "text": [
        "\n",
        "similar movie: Bride of Chucky (1998)\n",
        "similar movie: Child's Play 2 (1990)\n",
        "similar movie: Halloween: The Curse of Michael Myers (1995)\n",
        "similar movie: Halloween: H20 (1998)\n",
        "similar movie: Texas Chainsaw Massacre 2, The (1986)\n",
        "similar movie: Halloween 5: The Revenge of Michael Myers (1989)\n",
        "similar movie: Friday the 13th: The Final Chapter (1984)\n",
        "similar movie: Halloween 4: The Return of Michael Myers (1988)\n",
        "similar movie: Gremlins 2: The New Batch (1990)\n",
        "similar movie: Wes Craven's New Nightmare (1994)\n",
        "\n",
        "predicting rating\n",
        "predicted rating = 2.97081167326\n",
        "actual rating = 0.0\n",
        "\n",
        "finding users to recommend toy story\n",
        "user 2155\n",
        "user 283\n",
        "user 2339\n",
        "user 46\n",
        "user 4801\n",
        "user 3324\n",
        "user 447\n",
        "user 446\n",
        "user 4634\n",
        "user 3902\n"
       ]
      }
     ],
     "prompt_number": 13
    },
    {
     "cell_type": "code",
     "collapsed": false,
     "input": [
      "def SVDloadData2():\n",
      "    dat_file='ml-1m/ratings.dat'\n",
      "    pct_train=0.5\n",
      "    data = Data()\n",
      "    data.load(dat_file, sep='::', format={'col':0, 'row':1, 'value':2,'ids':int})\n",
      "    return data\n",
      "\n",
      "def SVDtrain2(data,pct_train):\n",
      "    train, test = data.split_train_test(percent=pct_train)               \n",
      "    K=100\n",
      "    svd = SVD()\n",
      "    svd.set_data(train)\n",
      "    svd.compute(k=K, min_values=5, pre_normalize=None, mean_center=True,\n",
      "    post_normalize=True)\n",
      "    return svd,train,test\n",
      "\n",
      "def SVDtest2(data,train,test,pct_train):\n",
      "\n",
      "    rmse = RMSE()\n",
      "    mae = MAE()\n",
      "    for rating, item_id, user_id in test.get():\n",
      "        try:\n",
      "            pred_rating = svd.predict(item_id, user_id)\n",
      "            rmse.add(rating, pred_rating)\n",
      "            mae.add(rating, pred_rating)\n",
      "        except KeyError:\n",
      "            continue\n",
      "\n",
      "    print 'RMSE=%s' % rmse.compute()\n",
      "    print 'MAE=%s\\n' % mae.compute()\n",
      "\n",
      "\n",
      "print '\\nloading data set 2'\n",
      "data = SVDloadData2()\n",
      "print 'training'\n",
      "svd,train,test = SVDtrain2(data,pct_train)\n",
      "print 'evaluating performance'\n",
      "SVDtest2(svd,train,test,pct_train)\n",
      "print 'done!'"
     ],
     "language": "python",
     "metadata": {},
     "outputs": [
      {
       "output_type": "stream",
       "stream": "stdout",
       "text": [
        "\n",
        "loading data set 2\n",
        "training"
       ]
      },
      {
       "output_type": "stream",
       "stream": "stdout",
       "text": [
        "\n",
        "evaluating performance"
       ]
      },
      {
       "output_type": "stream",
       "stream": "stdout",
       "text": [
        "\n",
        "RMSE=1.434636"
       ]
      },
      {
       "output_type": "stream",
       "stream": "stdout",
       "text": [
        "\n",
        "MAE=1.126943\n",
        "\n",
        "done!\n"
       ]
      },
      {
       "output_type": "stream",
       "stream": "stderr",
       "text": [
        "/Users/vaidehi/anaconda/python.app/Contents/lib/python2.7/site-packages/divisi2/dense.py:269: RuntimeWarning: invalid value encountered in divide\n",
        "  return self / norms\n"
       ]
      }
     ],
     "prompt_number": 6
    }
   ],
   "metadata": {}
  }
 ]
}